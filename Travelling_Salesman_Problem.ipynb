{
 "cells": [
  {
   "cell_type": "markdown",
   "id": "6ec8e698-052d-4503-aadb-e09d6ff46177",
   "metadata": {},
   "source": [
    "Travelling AI student starts from Tampere and returns to Tampere. He visits Toijala, Vesilahti and Sastamala. Find the shortest possible path for him to complete the round-trip route. (Travelling salesman problem)"
   ]
  },
  {
   "cell_type": "markdown",
   "id": "dc209d29-df29-4bab-a158-b736aa7c1b95",
   "metadata": {},
   "source": [
    "### The Adjacency Matrix\n",
    "\n",
    "<div>\n",
    "<img src=\"images/travel.png\" width=\"300\"/>\n",
    "</div>\n",
    "<div>\n",
    "<img src=\"images/travel1.png\" width=\"300\"/>\n",
    "</div>"
   ]
  },
  {
   "cell_type": "markdown",
   "id": "f2ca53f9-cc31-4cee-9953-42b1f3c881b9",
   "metadata": {},
   "source": [
    "For this task I have chosen dynamic programming method."
   ]
  },
  {
   "cell_type": "markdown",
   "id": "9b004145-c66c-4165-9d6e-4e412e2c5c78",
   "metadata": {},
   "source": [
    "Task: Start point at 1 (Tampere), visit other places(2,3,4) once and return to the start position 1 (Tampere).  \n",
    "\n",
    "Weight: the distance which each edge represents. \n",
    "\n",
    "In this task we meet with Travelling Salesman Problem, shortly - TSP, which is NP-hard problem type. It means no polynomial time algorithm. In this case it is not very complex because we don't have a big amount of cities, just 4."
   ]
  },
  {
   "cell_type": "code",
   "execution_count": 1,
   "id": "74d8410f-3518-491d-9afd-6f27fbd05e35",
   "metadata": {},
   "outputs": [
    {
     "name": "stdout",
     "output_type": "stream",
     "text": [
      "170.5\n"
     ]
    }
   ],
   "source": [
    "from sys import maxsize\n",
    "from itertools import permutations\n",
    "\n",
    "V = 4 #set of vertices\n",
    " \n",
    "# implementation of traveling Salesman Problem\n",
    "def travellingSalesmanProblem(graph, s):\n",
    " \n",
    "    # store all vertex apart from source vertex\n",
    "    vertex = []\n",
    "    for i in range(V):\n",
    "        if i != s:\n",
    "            vertex.append(i)\n",
    " \n",
    "    # store minimum weight Hamiltonian Cycle\n",
    "    min_path = maxsize\n",
    "    next_permutation=permutations(vertex)\n",
    "    for i in next_permutation:\n",
    "\n",
    "        # store current Path weight(cost)\n",
    "        current_pathweight = 0\n",
    " \n",
    "        # compute current path weight\n",
    "        k = s\n",
    "        for j in i:\n",
    "            current_pathweight += graph[k][j]\n",
    "            k = j\n",
    "        current_pathweight += graph[k][s]\n",
    " \n",
    "        # update minimum\n",
    "        min_path = min(min_path, current_pathweight)\n",
    "         \n",
    "    return min_path\n",
    " \n",
    " \n",
    "\n",
    "if __name__ == \"__main__\":\n",
    " \n",
    "    # matrix representation of graph\n",
    "    graph = [[0, 34.7, 42.5, 54.4], [34.7, 0, 24.2, 49.4], [42.5, 24.2, 0, 64.1], [54.4, 49.4, 64.1, 0]]\n",
    "    s = 0\n",
    "    print(travellingSalesmanProblem(graph, s))"
   ]
  },
  {
   "cell_type": "code",
   "execution_count": 2,
   "id": "1a553312-f10c-49d8-a9e2-dbcd0a678f8d",
   "metadata": {},
   "outputs": [
    {
     "data": {
      "text/html": [
       "<div>\n",
       "<style scoped>\n",
       "    .dataframe tbody tr th:only-of-type {\n",
       "        vertical-align: middle;\n",
       "    }\n",
       "\n",
       "    .dataframe tbody tr th {\n",
       "        vertical-align: top;\n",
       "    }\n",
       "\n",
       "    .dataframe thead th {\n",
       "        text-align: right;\n",
       "    }\n",
       "</style>\n",
       "<table border=\"1\" class=\"dataframe\">\n",
       "  <thead>\n",
       "    <tr style=\"text-align: right;\">\n",
       "      <th></th>\n",
       "      <th>0</th>\n",
       "      <th>1</th>\n",
       "      <th>2</th>\n",
       "      <th>3</th>\n",
       "    </tr>\n",
       "  </thead>\n",
       "  <tbody>\n",
       "    <tr>\n",
       "      <th>0</th>\n",
       "      <td>0.0</td>\n",
       "      <td>34.7</td>\n",
       "      <td>42.5</td>\n",
       "      <td>54.4</td>\n",
       "    </tr>\n",
       "    <tr>\n",
       "      <th>1</th>\n",
       "      <td>34.7</td>\n",
       "      <td>0.0</td>\n",
       "      <td>24.2</td>\n",
       "      <td>49.4</td>\n",
       "    </tr>\n",
       "    <tr>\n",
       "      <th>2</th>\n",
       "      <td>42.5</td>\n",
       "      <td>24.2</td>\n",
       "      <td>0.0</td>\n",
       "      <td>64.1</td>\n",
       "    </tr>\n",
       "    <tr>\n",
       "      <th>3</th>\n",
       "      <td>54.4</td>\n",
       "      <td>49.4</td>\n",
       "      <td>64.1</td>\n",
       "      <td>0.0</td>\n",
       "    </tr>\n",
       "  </tbody>\n",
       "</table>\n",
       "</div>"
      ],
      "text/plain": [
       "      0     1     2     3\n",
       "0   0.0  34.7  42.5  54.4\n",
       "1  34.7   0.0  24.2  49.4\n",
       "2  42.5  24.2   0.0  64.1\n",
       "3  54.4  49.4  64.1   0.0"
      ]
     },
     "metadata": {},
     "output_type": "display_data"
    }
   ],
   "source": [
    "from IPython.display import display\n",
    "import pandas as pd\n",
    "\n",
    "dict = {0 : [0, 34.7, 42.5, 54.4],\n",
    "        1 : [34.7, 0, 24.2, 49.4],\n",
    "        2 : [42.5, 24.2, 0, 64.1],\n",
    "        3 : [54.4, 49.4, 64.1, 0]}\n",
    "df = pd.DataFrame(dict)\n",
    "\n",
    "display(df)"
   ]
  },
  {
   "cell_type": "code",
   "execution_count": 3,
   "id": "79e22d6d-0a77-4f91-8a7e-a2de9826d8c4",
   "metadata": {},
   "outputs": [],
   "source": [
    "import six\n",
    "import sys\n",
    "sys.modules['sklearn.externals.six'] = six\n",
    "import mlrose"
   ]
  },
  {
   "cell_type": "markdown",
   "id": "765fdfb9-17a4-4f7b-821d-f5745201e02a",
   "metadata": {},
   "source": [
    "Here we use mlrose library.\n",
    "Steps:\n",
    "1. Make a fitness function\n",
    "2. Then find optimization problem\n",
    "3. And after that finally get the results from the randomized optimization algorithm "
   ]
  },
  {
   "cell_type": "code",
   "execution_count": 4,
   "id": "b7378cc9-6d62-4a24-aa0f-7e73d9b9b025",
   "metadata": {},
   "outputs": [
    {
     "name": "stdout",
     "output_type": "stream",
     "text": [
      "<mlrose.fitness.TravellingSales object at 0x12d1f6830>\n"
     ]
    }
   ],
   "source": [
    "# For initializing fitness function we need coordinates,\n",
    "# down below is also deffined the distance between them for our goal of this task\n",
    "dist_list = [(0, 1, 34,7), (0, 2, 42.5), (0, 3, 54.4), \\\n",
    "             (1, 2, 24.2), (1, 3, 49.4), \\\n",
    "             (2, 3, 64.1)]\n",
    "\n",
    "# Initializing fitness function object using distance list\n",
    "fitness_dists = mlrose.TravellingSales(distances = dist_list)\n",
    "print(fitness_dists)"
   ]
  },
  {
   "cell_type": "code",
   "execution_count": 5,
   "id": "468816f4-fb22-4de5-b4ea-15abf4ed6f3d",
   "metadata": {},
   "outputs": [],
   "source": [
    "# to initialize TSPOpt we need to define length(number of cities, fitness function, \n",
    "# maximization is false cause we are searching for the shortest route)\n",
    "problem_fit = mlrose.TSPOpt(length = 4, fitness_fn = fitness_dists,\n",
    "                            maximize=False)"
   ]
  },
  {
   "cell_type": "code",
   "execution_count": 6,
   "id": "65be9c51-45a8-49fb-a799-150525edbaa2",
   "metadata": {},
   "outputs": [
    {
     "name": "stdout",
     "output_type": "stream",
     "text": [
      "The best state found is:  [0 2 1 3]\n",
      "The fitness at the best state is:  170.5\n"
     ]
    }
   ],
   "source": [
    "# Solving problem with the genetic algorithm\n",
    "best_state, best_fitness = mlrose.genetic_alg(problem_fit, mutation_prob = 0.2, \n",
    "\t\t\t\t\t      max_attempts = 100, random_state = 2)\n",
    "\n",
    "print('The best state found is: ', best_state)\n",
    "\n",
    "print('The fitness at the best state is: ', best_fitness)"
   ]
  },
  {
   "cell_type": "markdown",
   "id": "5ff37988-b7dd-4b00-b3eb-0d2d128c312c",
   "metadata": {},
   "source": [
    "## Conclusion"
   ]
  },
  {
   "cell_type": "markdown",
   "id": "2bf1366c-6d23-41b9-a546-c7c56c58b1cc",
   "metadata": {},
   "source": [
    "I used several different codes for this task.   \n",
    "Both of them showed the same result, which also proves, that these methods work well.  \n",
    "\n",
    "#### The best order for this route would be 1,3,2,4,1 which gives us the shortest distance 170,5 km.  \n",
    "Tampere -> Toijala -> Vesilahti -> Satsamala -> Tampere  \n",
    "\n",
    "#### It also could be reversed. "
   ]
  }
 ],
 "metadata": {
  "kernelspec": {
   "display_name": "Python 3 (ipykernel)",
   "language": "python",
   "name": "python3"
  },
  "language_info": {
   "codemirror_mode": {
    "name": "ipython",
    "version": 3
   },
   "file_extension": ".py",
   "mimetype": "text/x-python",
   "name": "python",
   "nbconvert_exporter": "python",
   "pygments_lexer": "ipython3",
   "version": "3.10.16"
  }
 },
 "nbformat": 4,
 "nbformat_minor": 5
}
